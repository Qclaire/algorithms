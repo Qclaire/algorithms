{
 "cells": [
  {
   "cell_type": "code",
   "execution_count": 9,
   "metadata": {},
   "outputs": [],
   "source": [
    "def BubbleSort(arr):\n",
    "    \"\"\" the breaking flags are only useful for jumping out of the loop sa\n",
    "        save some time when list is sorted before n times\"\"\"\n",
    "    times = len(arr) # number of times to iterate\n",
    "    brk = False # a flag to break the loop if the array is sorted be n iterations\n",
    "    while times and not brk:\n",
    "        for i in range(len(arr)-1):\n",
    "            swapped = False\n",
    "            item = arr[i]\n",
    "            nex = arr[i+1]\n",
    "            if item>nex:\n",
    "                arr[i+1] = item\n",
    "                arr[i] = nex\n",
    "                swapped =  True\n",
    "            if not swapped:\n",
    "                break\n",
    "                brk = True\n",
    "        times -= 1\n",
    "\n",
    "    return arr"
   ]
  },
  {
   "cell_type": "code",
   "execution_count": 17,
   "metadata": {},
   "outputs": [
    {
     "data": {
      "text/plain": [
       "[0, 1, 2, 3, 5, 1]"
      ]
     },
     "execution_count": 17,
     "metadata": {},
     "output_type": "execute_result"
    }
   ],
   "source": [
    "BubbleSort([3,2,1,0,5,1])"
   ]
  }
 ],
 "metadata": {
  "kernelspec": {
   "display_name": "Python 3",
   "language": "python",
   "name": "python3"
  },
  "language_info": {
   "codemirror_mode": {
    "name": "ipython",
    "version": 3
   },
   "file_extension": ".py",
   "mimetype": "text/x-python",
   "name": "python",
   "nbconvert_exporter": "python",
   "pygments_lexer": "ipython3",
   "version": "3.7.3"
  }
 },
 "nbformat": 4,
 "nbformat_minor": 2
}
