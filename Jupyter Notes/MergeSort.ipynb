{
 "cells": [
  {
   "cell_type": "code",
   "execution_count": 35,
   "metadata": {},
   "outputs": [],
   "source": [
    "def mergeSortedArrays(left_half, right_half):\n",
    "    i = 0 # counter for right side of the array\n",
    "    j = 0 # for the other side\n",
    "    k = 0\n",
    "    \"\"\" if we set a tracker, we can tell which array was last picked from\"\"\"\n",
    "    \"\"\"as the loop breaks when shorter one is exhausted, we can add all remaining elements in other array\"\"\"\n",
    "    track = None; # keeping track of which side we picked from on each pick\n",
    "    arr = [] # the output array\n",
    "\n",
    "    \"\"\" if one array is empty return the other since it is sorted\"\"\"\n",
    "    if right_half and not left_half: \n",
    "        return right_half\n",
    "    if left_half and not right_half:\n",
    "        return left_half\n",
    "    \n",
    "    \"\"\"if both are empty then the sorted array is empty\"\"\"\n",
    "    if not left_half and not right_half:\n",
    "        return []\n",
    "    \"\"\" now iterate n times => l(shorter arr) on both arrays\"\"\"\n",
    "    while i<len(left_half) and j<len(right_half):\n",
    "        \"\"\"since both arrays are sorted, the first element in each is the least\"\"\"\n",
    "        \"\"\"the least amont the two is the least in the final array, and goes in first\"\"\"\n",
    "        if left_half[i] < right_half[j]:# compare 1st i and j\n",
    "            arr.append(left_half[i])\n",
    "            i += 1 # incremetn right counter\n",
    "            track = 1 # set the tracker to 1\n",
    "        else:\n",
    "            arr.append(right_half[j])\n",
    "            j += 1\n",
    "            track = 2 # set the tracker to 2\n",
    "        k += 1\n",
    "    \"\"\"for uneven arr len one array will have elements unappended to the final array\"\"\"\n",
    "    \"\"\"lets use the tracker to see where we last picked from, then we know the other array to continue\"\"\"\n",
    "    if track == 1: # left hand was last selected from\n",
    "        return arr + right_half[j:] # add all element in right half starting from the last index we selected\n",
    "    elif track == 2: # same as above\n",
    "        return arr + left_half[i:]\n",
    "    "
   ]
  },
  {
   "cell_type": "code",
   "execution_count": 40,
   "metadata": {},
   "outputs": [
    {
     "data": {
      "text/plain": [
       "[1, 1, 3, 3, 4, 4, 5, 5, 8]"
      ]
     },
     "execution_count": 40,
     "metadata": {},
     "output_type": "execute_result"
    }
   ],
   "source": [
    "l = [1,3,4,5]\n",
    "f = [1,3,4,5,8]\n",
    "mergeSortedArrays(l, f)"
   ]
  },
  {
   "cell_type": "code",
   "execution_count": 17,
   "metadata": {},
   "outputs": [],
   "source": [
    "def mergeSort(arr):\n",
    "    if len(arr)==1:\n",
    "        return arr\n",
    "    \n",
    "    else:\n",
    "        half = len(arr)//2\n",
    "        \n",
    "        right = arr[:half]\n",
    "        left = arr[half:]\n",
    "        \n",
    "        return mergeSortedArrays(mergeSort(right), mergeSort(left))"
   ]
  },
  {
   "cell_type": "code",
   "execution_count": 42,
   "metadata": {},
   "outputs": [
    {
     "data": {
      "text/plain": [
       "[0, 1, 1, 2, 3, 4, 4, 5, 23, 65, 90]"
      ]
     },
     "execution_count": 42,
     "metadata": {},
     "output_type": "execute_result"
    }
   ],
   "source": [
    "mergeSort([3,2,1,0,5,90,1,4,65,23,4])"
   ]
  }
 ],
 "metadata": {
  "kernelspec": {
   "display_name": "Python 3",
   "language": "python",
   "name": "python3"
  },
  "language_info": {
   "codemirror_mode": {
    "name": "ipython",
    "version": 3
   },
   "file_extension": ".py",
   "mimetype": "text/x-python",
   "name": "python",
   "nbconvert_exporter": "python",
   "pygments_lexer": "ipython3",
   "version": "3.7.3"
  }
 },
 "nbformat": 4,
 "nbformat_minor": 2
}
