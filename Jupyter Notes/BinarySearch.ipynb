{
 "cells": [
  {
   "cell_type": "code",
   "execution_count": 10,
   "metadata": {},
   "outputs": [],
   "source": [
    "def BinarySearch(arr:list, k:eval)->bool:\n",
    "    \"Returns True or false if in is in arr \\n may be tweaked to return the exact location\\n arr must be sorted in ascending order\"\n",
    "    if not arr or (len(arr)==1 and arr[0]!=k):\n",
    "        return \"NA\"\n",
    "\n",
    "    half =  len(arr)//2\n",
    "    if k == arr[half]:\n",
    "        return \"found\"\n",
    "    elif k < arr[half]:\n",
    "        return BinarySearch(arr[:half],k)\n",
    "    else:\n",
    "        return BinarySearch(arr[half:],k)\n"
   ]
  },
  {
   "cell_type": "code",
   "execution_count": 11,
   "metadata": {},
   "outputs": [
    {
     "data": {
      "text/plain": [
       "'NA'"
      ]
     },
     "execution_count": 11,
     "metadata": {},
     "output_type": "execute_result"
    }
   ],
   "source": [
    "BinarySearch()"
   ]
  }
 ],
 "metadata": {
  "kernelspec": {
   "display_name": "Python 3",
   "language": "python",
   "name": "python3"
  },
  "language_info": {
   "codemirror_mode": {
    "name": "ipython",
    "version": 3
   },
   "file_extension": ".py",
   "mimetype": "text/x-python",
   "name": "python",
   "nbconvert_exporter": "python",
   "pygments_lexer": "ipython3",
   "version": "3.7.3"
  }
 },
 "nbformat": 4,
 "nbformat_minor": 2
}
